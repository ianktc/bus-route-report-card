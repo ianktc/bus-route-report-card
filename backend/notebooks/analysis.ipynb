{
 "cells": [
  {
   "cell_type": "code",
   "execution_count": 8,
   "metadata": {},
   "outputs": [],
   "source": [
    "import pandas as pd\n",
    "from geopy.distance import geodesic\n",
    "from pathlib import Path"
   ]
  },
  {
   "cell_type": "code",
   "execution_count": 9,
   "metadata": {},
   "outputs": [],
   "source": [
    "# globals\n",
    "backend_dir = Path('.').resolve()\n",
    "input = Path(backend_dir,'data_in')\n",
    "output = Path(backend_dir, 'data_out')\n",
    "data_set = 'mdb-2253'\n",
    "target_route = '510'"
   ]
  },
  {
   "cell_type": "code",
   "execution_count": 10,
   "metadata": {},
   "outputs": [],
   "source": [
    "def find_distance_to_stop(group):\n",
    "    group['distance_to_stop'] = group.apply(\n",
    "        lambda row: geodesic(\n",
    "            (row['vehicle_latitude'], row['vehicle_longitude']),\n",
    "            (row['stop_lat_trip'], row['stop_lon_trip'])\n",
    "        ).meters,\n",
    "        axis=1\n",
    "    )\n",
    "    return group"
   ]
  },
  {
   "cell_type": "code",
   "execution_count": 11,
   "metadata": {},
   "outputs": [],
   "source": [
    "# Read txt files\n",
    "rt_trips = pd.read_csv(Path(output, str(target_route) + '-rt.csv'), sep=',')\n",
    "static_trips = pd.read_csv(Path(output, str(target_route) + '-static.csv'), sep=',')\n",
    "stops = pd.read_csv(Path(input, data_set + '/stops.txt'), sep=',')\n",
    "stop_times = pd.read_csv(Path(input, data_set + '/stop_times.txt'), sep=',')"
   ]
  },
  {
   "cell_type": "code",
   "execution_count": 12,
   "metadata": {},
   "outputs": [],
   "source": [
    "# Merge rt info with static info\n",
    "rt_static_merged_trips = rt_trips.merge(static_trips, on='trip_id', how='outer')\n",
    "rt_static_merged_trips = rt_static_merged_trips.drop(['Unnamed: 0_x', 'Unnamed: 0_y', 'route_id'], axis=1).dropna()\n",
    "rt_static_merged_trips.reset_index(drop = True, inplace = True)\n",
    "rt_static_merged_trips.to_csv(Path(output, str(target_route) + '-rt-static.csv'))"
   ]
  },
  {
   "cell_type": "code",
   "execution_count": 13,
   "metadata": {},
   "outputs": [],
   "source": [
    "# Merge stop_times with stops\n",
    "stop_info = stop_times.merge(stops, on=\"stop_id\")\n",
    "stop_info = stop_info[[\"trip_id\", \"arrival_time\", \"departure_time\", \"stop_id\", \"stop_sequence\", \"stop_lat\", \"stop_lon\", \"stop_name\"]]"
   ]
  },
  {
   "cell_type": "code",
   "execution_count": null,
   "metadata": {},
   "outputs": [],
   "source": [
    "# Merge stop_info and rt_static_trips on trip_id\n",
    "merged = stop_info.merge(rt_static_merged_trips, on=\"trip_id\", suffixes=(\"_trip\", \"_rt\"))\n",
    "merged = merged[[\"trip_id\", \"now\", \"arrival_time_trip\", \"departure_time_trip\", \"stop_sequence_trip\", \"stop_sequence_rt\",\n",
    "                \"stop_lat_trip\", \"stop_lon_trip\", \"stop_name_trip\", \"vehicle_latitude\", \"vehicle_longitude\"]]\n",
    "\n",
    "# Filter rows where rt stop_sequence is within 5 of the intended stop_sequence\n",
    "filtered = merged[\n",
    "    ((merged[\"stop_sequence_rt\"] - merged[\"stop_sequence_trip\"]).abs() <= 7)\n",
    "]\n",
    "filtered_data = filtered[[\"trip_id\", \"stop_sequence_trip\", \"now\", \"arrival_time_trip\", \"departure_time_trip\", \"stop_name_trip\", \"stop_lat_trip\", \"stop_lon_trip\", \"vehicle_latitude\", \"vehicle_longitude\"]]\n",
    "# filtered_data.to_csv(Path(output, 'filtered_data.csv'))"
   ]
  },
  {
   "cell_type": "code",
   "execution_count": null,
   "metadata": {},
   "outputs": [],
   "source": [
    "# Calculate distance to each stop\n",
    "calculated_distance = filtered_data.groupby(\"trip_id\").apply(find_distance_to_stop, include_groups=False).reset_index(drop=False)\n",
    "calculated_distance = calculated_distance.drop(columns=['level_1'])"
   ]
  },
  {
   "cell_type": "code",
   "execution_count": null,
   "metadata": {},
   "outputs": [],
   "source": [
    "# Identify which stop is the closest (by stop_sequence)\n",
    "calculated_distance['closest_stop_sequence'] = (\n",
    "    calculated_distance.groupby('trip_id')['distance_to_stop']\n",
    "    .transform(lambda x: calculated_distance.loc[x.idxmin(), 'stop_sequence_trip'])\n",
    ")\n",
    "calculated_distance.reset_index(drop = True, inplace = True)\n",
    "\n",
    "# Save the realtime stop name of only the closest stop\n",
    "calculated_distance['stop_name_trip'] = (\n",
    "    calculated_distance.groupby('trip_id')\n",
    "        .apply(lambda group: group.loc[group['stop_sequence_trip'] == group['closest_stop_sequence'], 'stop_name_trip'], include_groups=False)\n",
    "        .reset_index(level=0, drop=True)\n",
    ")\n",
    "# calculated_distance.to_csv(Path(output, 'calculated_distance.csv'))"
   ]
  },
  {
   "cell_type": "code",
   "execution_count": null,
   "metadata": {},
   "outputs": [],
   "source": [
    "rt_static_merged_trips_concise = rt_static_merged_trips[['trip_id', 'stop_sequence', 'stop_name']]\n",
    "calculated_distance_concise = calculated_distance[['trip_id', 'closest_stop_sequence', 'stop_name_trip']].dropna()\n",
    "comparison = (calculated_distance_concise.merge(rt_static_merged_trips_concise, on='trip_id', how='outer'))[['trip_id', 'stop_sequence', 'stop_name', 'closest_stop_sequence', 'stop_name_trip']]\n",
    "\n",
    "# Evaluate whether bus is on/ahead/behind schedule\n",
    "result = comparison.drop_duplicates()\n",
    "temp = result.copy()\n",
    "temp.loc[:, 'status'] = result.apply(\n",
    "    lambda row: \n",
    "        'on' if row['closest_stop_sequence'] == row['stop_sequence'] \n",
    "        else\n",
    "        'ahead' if row['closest_stop_sequence'] > row['stop_sequence'] \n",
    "        else\n",
    "        'behind',\n",
    "    axis=1\n",
    ")\n",
    "\n",
    "temp = temp.rename({'closest_stop_sequence': 'realtime_stop_sequence',\n",
    "                    'stop_name_trip': 'realtime_stop_name', \n",
    "                    'stop_sequence': 'static_stop_sequence', \n",
    "                    'stop_name': 'static_stop_name'}, axis=1)\n",
    "temp['static_stop_sequence'] = temp['static_stop_sequence'].astype(int)\n",
    "result = temp.copy()\n",
    "\n",
    "# Save to csv\n",
    "result.reset_index(drop = True, inplace = True)\n",
    "result.to_csv(Path(output, 'analysis-result.csv'))"
   ]
  }
 ],
 "metadata": {
  "kernelspec": {
   "display_name": "Python 3",
   "language": "python",
   "name": "python3"
  },
  "language_info": {
   "codemirror_mode": {
    "name": "ipython",
    "version": 3
   },
   "file_extension": ".py",
   "mimetype": "text/x-python",
   "name": "python",
   "nbconvert_exporter": "python",
   "pygments_lexer": "ipython3",
   "version": "3.10.12"
  }
 },
 "nbformat": 4,
 "nbformat_minor": 2
}
