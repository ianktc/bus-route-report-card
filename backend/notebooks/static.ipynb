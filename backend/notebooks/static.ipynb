{
 "cells": [
  {
   "cell_type": "code",
   "execution_count": 39,
   "metadata": {},
   "outputs": [],
   "source": [
    "from datetime import datetime\n",
    "from pathlib import Path\n",
    "import pandas as pd # type: ignore"
   ]
  },
  {
   "cell_type": "code",
   "execution_count": 40,
   "metadata": {},
   "outputs": [],
   "source": [
    "# globals\n",
    "backend_dir = Path('.').resolve()\n",
    "input = Path(backend_dir,'data_in')\n",
    "output = Path(backend_dir, 'data_out')\n",
    "data_set = 'mdb-2253'\n",
    "target_route = '510'"
   ]
  },
  {
   "cell_type": "code",
   "execution_count": 41,
   "metadata": {},
   "outputs": [],
   "source": [
    "def normalize_time(time_str):\n",
    "    try:\n",
    "        # Split time into components\n",
    "        h, m, s = map(int, time_str.split(\":\"))\n",
    "        # Normalize hours to wrap around at 24\n",
    "        h %= 24\n",
    "        # Return normalized time as a string\n",
    "        return f\"{h:02}:{m:02}:{s:02}\"\n",
    "    except Exception as e:\n",
    "        print(f\"Invalid time format: {time_str}\")\n",
    "        return None"
   ]
  },
  {
   "cell_type": "code",
   "execution_count": 42,
   "metadata": {},
   "outputs": [],
   "source": [
    "def clean_data_out():\n",
    "    print(output)\n",
    "    for file_path in output.iterdir():\n",
    "        if file_path.is_file():  \n",
    "            file_path.unlink() "
   ]
  },
  {
   "cell_type": "code",
   "execution_count": 43,
   "metadata": {},
   "outputs": [
    {
     "name": "stdout",
     "output_type": "stream",
     "text": [
      "/home/chanian/Repositories/gtfs/data_out\n"
     ]
    }
   ],
   "source": [
    "clean_data_out()\n",
    "\n",
    "# Read txt files\n",
    "routes = pd.read_csv(Path(input, data_set, 'routes.txt').resolve(), sep=',')\n",
    "trips = pd.read_csv(Path(input, data_set, 'trips.txt'), sep=',')\n",
    "stop_times = pd.read_csv(Path(input, data_set, 'stop_times.txt'), sep=',')\n",
    "stops = pd.read_csv(Path(input, data_set, 'stops.txt'), sep=',')"
   ]
  },
  {
   "cell_type": "code",
   "execution_count": 44,
   "metadata": {},
   "outputs": [],
   "source": [
    "# Filter for particular route (eg. 510)\n",
    "route_id = routes.loc[routes['route_short_name'] == int(target_route), 'route_id']"
   ]
  },
  {
   "cell_type": "code",
   "execution_count": 45,
   "metadata": {},
   "outputs": [],
   "source": [
    "# Get all trip_ids with route_id = target route\n",
    "route_trips = trips.loc[trips['route_id'] == route_id.iloc[0], 'trip_id']"
   ]
  },
  {
   "cell_type": "code",
   "execution_count": 46,
   "metadata": {},
   "outputs": [],
   "source": [
    "# Get route stop times from stop_times csv\n",
    "route_stop_times = stop_times[stop_times['trip_id'].isin(route_trips)]"
   ]
  },
  {
   "cell_type": "code",
   "execution_count": 47,
   "metadata": {},
   "outputs": [],
   "source": [
    "# Join with stops csv to get stop information\n",
    "route_stop_times = route_stop_times.merge(stops, on='stop_id', how='left')"
   ]
  },
  {
   "cell_type": "code",
   "execution_count": 48,
   "metadata": {},
   "outputs": [],
   "source": [
    "# Apply time normalization (for >24 hours) and convert to datetime format\n",
    "route_stop_times[\"arrival_time\"] = route_stop_times[\"arrival_time\"].apply(normalize_time)\n",
    "route_stop_times[\"arrival_time\"] = pd.to_datetime(route_stop_times[\"arrival_time\"], format=\"%H:%M:%S\").dt.time\n",
    "\n",
    "# Combine arrival_time with today's date to create datetime objects\n",
    "today = pd.Timestamp.now().normalize()  # Get today's date at 00:00:00\n",
    "route_stop_times[\"arrival_datetime\"] = route_stop_times[\"arrival_time\"].apply(\n",
    "    lambda t: datetime.combine(today, t)\n",
    ")\n",
    "\n",
    "# Filter rows to 1 minute in future\n",
    "current_time = pd.Timestamp.now()\n",
    "time_diff = (route_stop_times[\"arrival_datetime\"] - current_time)\n",
    "route_stop_times = route_stop_times[(time_diff <= pd.Timedelta(minutes=1)) & (time_diff > pd.Timedelta(0))]"
   ]
  },
  {
   "cell_type": "code",
   "execution_count": 49,
   "metadata": {},
   "outputs": [],
   "source": [
    "# Display arrival/departure times and lat/lon coordinates for each stop \n",
    "result = route_stop_times[['trip_id', 'stop_id', 'stop_name', 'arrival_time', 'departure_time', 'stop_lat', 'stop_lon', 'stop_sequence']]\n",
    "\n",
    "# Count unique trip_ids just out of curiosity\n",
    "unique_trip_count = route_stop_times[\"trip_id\"].nunique()\n",
    "# print(unique_trip_count)\n",
    "\n",
    "# Save to csv\n",
    "result.reset_index(drop = True, inplace = True)\n",
    "result.to_csv(Path(output, str(target_route) + \"-static.csv\"))"
   ]
  }
 ],
 "metadata": {
  "kernelspec": {
   "display_name": "Python 3",
   "language": "python",
   "name": "python3"
  },
  "language_info": {
   "codemirror_mode": {
    "name": "ipython",
    "version": 3
   },
   "file_extension": ".py",
   "mimetype": "text/x-python",
   "name": "python",
   "nbconvert_exporter": "python",
   "pygments_lexer": "ipython3",
   "version": "3.10.12"
  }
 },
 "nbformat": 4,
 "nbformat_minor": 2
}
