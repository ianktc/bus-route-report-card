{
 "cells": [
  {
   "cell_type": "code",
   "execution_count": 10,
   "metadata": {},
   "outputs": [],
   "source": [
    "from datetime import datetime\n",
    "from pathlib import Path\n",
    "import pandas as pd # type: ignore"
   ]
  },
  {
   "cell_type": "code",
   "execution_count": 11,
   "metadata": {},
   "outputs": [],
   "source": [
    "def normalize_time(time_str):\n",
    "    try:\n",
    "        # Split time into components\n",
    "        h, m, s = map(int, time_str.split(\":\"))\n",
    "        # Normalize hours to wrap around at 24\n",
    "        h %= 24\n",
    "        # Return normalized time as a string\n",
    "        return f\"{h:02}:{m:02}:{s:02}\"\n",
    "    except Exception as e:\n",
    "        print(f\"Invalid time format: {time_str}\")\n",
    "        return None"
   ]
  },
  {
   "cell_type": "code",
   "execution_count": 12,
   "metadata": {},
   "outputs": [],
   "source": [
    "# Read txt files\n",
    "input = '../data_in'\n",
    "output = '../data_out'\n",
    "data_set = 'mdb-2253'\n",
    "\n",
    "directory = Path(output)\n",
    "\n",
    "for file_path in directory.iterdir():\n",
    "    if file_path.is_file():  # Check if it's a file\n",
    "        file_path.unlink()  # Delete the file\n",
    "        # print(f\"Deleted: {file_path}\")\n",
    "\n",
    "routes = pd.read_csv(input + '/' + data_set + '/routes.txt', sep=',')\n",
    "# print(routes)\n",
    "trips = pd.read_csv(input + '/' + data_set + '/trips.txt', sep=',')\n",
    "# print(trips)\n",
    "stop_times = pd.read_csv(input + '/' + data_set + '/stop_times.txt', sep=',')\n",
    "# print(stop_times)\n",
    "stops = pd.read_csv(input + '/' + data_set + '/stops.txt', sep=',')\n",
    "# print(stops)"
   ]
  },
  {
   "cell_type": "code",
   "execution_count": 13,
   "metadata": {},
   "outputs": [
    {
     "name": "stdout",
     "output_type": "stream",
     "text": [
      "132    510\n",
      "Name: route_id, dtype: int64\n"
     ]
    }
   ],
   "source": [
    "# Filter for bus 510 Spadina\n",
    "route_short_name = 510\n",
    "route_id = routes.loc[routes['route_short_name'] == route_short_name, 'route_id']\n",
    "print(route_id)"
   ]
  },
  {
   "cell_type": "code",
   "execution_count": 14,
   "metadata": {},
   "outputs": [
    {
     "name": "stdout",
     "output_type": "stream",
     "text": [
      "105056    144643080\n",
      "105057     14359010\n",
      "105058    144180040\n",
      "105059    143674050\n",
      "105060    144363080\n",
      "            ...    \n",
      "109468      8560010\n",
      "109469     85116040\n",
      "109470     85077040\n",
      "109471     84907050\n",
      "109472     84838020\n",
      "Name: trip_id, Length: 4417, dtype: int64\n"
     ]
    }
   ],
   "source": [
    "# Get all trip_ids with route_id = 510\n",
    "route_trips = trips.loc[trips['route_id'] == route_id.iloc[0], 'trip_id']\n",
    "print(route_trips)"
   ]
  },
  {
   "cell_type": "code",
   "execution_count": 15,
   "metadata": {},
   "outputs": [
    {
     "name": "stdout",
     "output_type": "stream",
     "text": [
      "           trip_id arrival_time departure_time  stop_id  stop_sequence  \\\n",
      "515          19040     08:51:00       08:51:00     4502              1   \n",
      "516          19040     08:53:15       08:53:15      315              2   \n",
      "517          19040     08:53:58       08:53:58     4264              3   \n",
      "518          19040     08:55:14       08:55:14     4265              4   \n",
      "519          19040     08:55:49       08:55:49    18794              5   \n",
      "...            ...          ...            ...      ...            ...   \n",
      "6267274  196539050     06:58:45       06:58:45    42405              9   \n",
      "6267275  196539050     06:59:17       06:59:17    42388             10   \n",
      "6267276  196539050     07:00:12       07:00:12    42402             11   \n",
      "6267277  196539050     07:00:43       07:00:43    42392             12   \n",
      "6267278  196539050     07:01:00       07:01:00    30764             13   \n",
      "\n",
      "                   stop_headsign  pickup_type  drop_off_type  \\\n",
      "515      510 SPADINA SPADINA STN            0              0   \n",
      "516      510 SPADINA SPADINA STN            0              0   \n",
      "517      510 SPADINA SPADINA STN            0              0   \n",
      "518      510 SPADINA SPADINA STN            0              0   \n",
      "519      510 SPADINA SPADINA STN            0              0   \n",
      "...                          ...          ...            ...   \n",
      "6267274  510 SPADINA SPADINA STN            0              0   \n",
      "6267275  510 SPADINA SPADINA STN            0              0   \n",
      "6267276  510 SPADINA SPADINA STN            0              0   \n",
      "6267277  510 SPADINA SPADINA STN            0              0   \n",
      "6267278  510 SPADINA SPADINA STN            0              0   \n",
      "\n",
      "         shape_dist_traveled  timepoint  \n",
      "515                     0.00          1  \n",
      "516                   404.60          0  \n",
      "517                   629.46          0  \n",
      "518                  1012.37          0  \n",
      "519                  1201.53          0  \n",
      "...                      ...        ...  \n",
      "6267274              2502.85          0  \n",
      "6267275              2644.10          0  \n",
      "6267276              2882.92          0  \n",
      "6267277              2989.21          0  \n",
      "6267278              3008.61          1  \n",
      "\n",
      "[78392 rows x 10 columns]\n"
     ]
    }
   ],
   "source": [
    "# Get route stop times from stop_times csv\n",
    "route_stop_times = stop_times[stop_times['trip_id'].isin(route_trips)]\n",
    "print(route_stop_times)"
   ]
  },
  {
   "cell_type": "code",
   "execution_count": 16,
   "metadata": {},
   "outputs": [],
   "source": [
    "# Join with stops csv to get stop information\n",
    "route_stop_times = route_stop_times.merge(stops, on='stop_id', how='left')\n",
    "# print(route_stop_times)"
   ]
  },
  {
   "cell_type": "code",
   "execution_count": 17,
   "metadata": {},
   "outputs": [],
   "source": [
    "# Apply time normalization (for >24 hours) and convert to datetime format\n",
    "route_stop_times[\"arrival_time\"] = route_stop_times[\"arrival_time\"].apply(normalize_time)\n",
    "route_stop_times[\"arrival_time\"] = pd.to_datetime(route_stop_times[\"arrival_time\"], format=\"%H:%M:%S\").dt.time\n",
    "\n",
    "# Take all trip_ids with arrival_time +/- 1 minutes to current time\n",
    "current_time = pd.Timestamp.now()\n",
    "\n",
    "# Combine arrival_time with today's date to create datetime objects\n",
    "today = pd.Timestamp.now().normalize()  # Get today's date at 00:00:00\n",
    "route_stop_times[\"arrival_datetime\"] = route_stop_times[\"arrival_time\"].apply(\n",
    "    lambda t: datetime.combine(today, t)\n",
    ")\n",
    "\n",
    "# Filter rows to 1 minute in future\n",
    "time_diff = (route_stop_times[\"arrival_datetime\"] - current_time)\n",
    "route_stop_times = route_stop_times[(time_diff <= pd.Timedelta(minutes=1)) & (time_diff > pd.Timedelta(0))]"
   ]
  },
  {
   "cell_type": "code",
   "execution_count": 18,
   "metadata": {},
   "outputs": [
    {
     "name": "stdout",
     "output_type": "stream",
     "text": [
      "         trip_id arrival_time departure_time  stop_id  stop_sequence  \\\n",
      "5549    13572010     18:39:00       18:39:00     4502              1   \n",
      "6440    16325040     18:39:14       18:39:14    42386             16   \n",
      "6871    17227010     18:39:09       18:39:09    42387             18   \n",
      "7533    18653070     18:38:54       18:38:54    42400             10   \n",
      "7883    19754040     18:39:24       18:39:24    42385              2   \n",
      "...          ...          ...            ...      ...            ...   \n",
      "75469  188924080     18:38:46       18:38:46     4260             18   \n",
      "76713  192276050     18:39:09       18:39:09    42387             18   \n",
      "76907  192504020     18:38:46       18:38:46     4260             18   \n",
      "76954  192687080     18:39:37       18:39:37    42405             19   \n",
      "77783  195062070     18:38:51       18:38:51    42390              9   \n",
      "\n",
      "                    stop_headsign  pickup_type  drop_off_type  \\\n",
      "5549      510 SPADINA SPADINA STN            0              0   \n",
      "6440      510 SPADINA SPADINA STN            0              0   \n",
      "6871      510 SPADINA SPADINA STN            0              0   \n",
      "7533   510D SPADINA TO EXHIBITION            0              0   \n",
      "7883      510 SPADINA SPADINA STN            0              0   \n",
      "...                           ...          ...            ...   \n",
      "75469  510D SPADINA TO EXHIBITION            0              0   \n",
      "76713     510 SPADINA SPADINA STN            0              0   \n",
      "76907  510D SPADINA TO EXHIBITION            0              0   \n",
      "76954     510 SPADINA SPADINA STN            0              0   \n",
      "77783           510C SPADINA KING            0              0   \n",
      "\n",
      "       shape_dist_traveled  timepoint  ... stop_desc   stop_lat   stop_lon  \\\n",
      "5549                  0.00          1  ...       NaN  43.636511 -79.414710   \n",
      "6440               4463.26          0  ...       NaN  43.655810 -79.398906   \n",
      "6871               5271.24          0  ...       NaN  43.661268 -79.401112   \n",
      "7533               2301.04          0  ...       NaN  43.648785 -79.396651   \n",
      "7883                475.56          0  ...       NaN  43.647754 -79.395729   \n",
      "...                    ...        ...  ...       ...        ...        ...   \n",
      "75469              4650.82          0  ...       NaN  43.638757 -79.401169   \n",
      "76713              5271.24          0  ...       NaN  43.661268 -79.401112   \n",
      "76907              4650.82          0  ...       NaN  43.638757 -79.401169   \n",
      "76954              5529.86          0  ...       NaN  43.663400 -79.402109   \n",
      "77783              1986.26          0  ...       NaN  43.650935 -79.397498   \n",
      "\n",
      "       zone_id  stop_url  location_type  parent_station  stop_timezone  \\\n",
      "5549       NaN       NaN            NaN             NaN            NaN   \n",
      "6440       NaN       NaN            NaN             NaN            NaN   \n",
      "6871       NaN       NaN            NaN             NaN            NaN   \n",
      "7533       NaN       NaN            NaN             NaN            NaN   \n",
      "7883       NaN       NaN            NaN             NaN            NaN   \n",
      "...        ...       ...            ...             ...            ...   \n",
      "75469      NaN       NaN            NaN             NaN            NaN   \n",
      "76713      NaN       NaN            NaN             NaN            NaN   \n",
      "76907      NaN       NaN            NaN             NaN            NaN   \n",
      "76954      NaN       NaN            NaN             NaN            NaN   \n",
      "77783      NaN       NaN            NaN             NaN            NaN   \n",
      "\n",
      "       wheelchair_boarding    arrival_datetime  \n",
      "5549                     2 2024-12-25 18:39:00  \n",
      "6440                     2 2024-12-25 18:39:14  \n",
      "6871                     2 2024-12-25 18:39:09  \n",
      "7533                     2 2024-12-25 18:38:54  \n",
      "7883                     2 2024-12-25 18:39:24  \n",
      "...                    ...                 ...  \n",
      "75469                    1 2024-12-25 18:38:46  \n",
      "76713                    2 2024-12-25 18:39:09  \n",
      "76907                    1 2024-12-25 18:38:46  \n",
      "76954                    2 2024-12-25 18:39:37  \n",
      "77783                    2 2024-12-25 18:38:51  \n",
      "\n",
      "[75 rows x 22 columns]\n",
      "68\n"
     ]
    },
    {
     "name": "stderr",
     "output_type": "stream",
     "text": [
      "/tmp/ipykernel_204090/1838574608.py:4: DeprecationWarning: DataFrameGroupBy.apply operated on the grouping columns. This behavior is deprecated, and in a future version of pandas the grouping columns will be excluded from the operation. Either pass `include_groups=False` to exclude the groupings or explicitly select the grouping columns after groupby to silence this warning.\n",
      "  .apply(lambda group: group.sort_values(by=['trip_id', 'arrival_time', 'stop_sequence'], ascending=[False, True, True]))\n"
     ]
    }
   ],
   "source": [
    "# Sort by arrival_time and stop_sequence\n",
    "route_stop_times_sorted = (\n",
    "    route_stop_times.groupby('trip_id', group_keys=False)\n",
    "    .apply(lambda group: group.sort_values(by=['trip_id', 'arrival_time', 'stop_sequence'], ascending=[False, True, True]))\n",
    ")\n",
    "\n",
    "print(route_stop_times_sorted)\n",
    "\n",
    "# Display arrival/departure times and lat/lon coordinates for each stop \n",
    "result_line = route_stop_times_sorted[['trip_id', 'stop_id', 'stop_name', 'arrival_time', 'departure_time', 'stop_lat', 'stop_lon', 'stop_sequence']]\n",
    "\n",
    "# Count unique trip_ids just out of curiosity\n",
    "unique_trip_count = route_stop_times[\"trip_id\"].nunique()\n",
    "print(unique_trip_count)\n",
    "\n",
    "# Save to csv\n",
    "result_line.reset_index(drop = True, inplace = True)\n",
    "result_line.to_csv(output + '/' + str(route_short_name) + \"-static.csv\")"
   ]
  }
 ],
 "metadata": {
  "kernelspec": {
   "display_name": ".venv",
   "language": "python",
   "name": "python3"
  },
  "language_info": {
   "codemirror_mode": {
    "name": "ipython",
    "version": 3
   },
   "file_extension": ".py",
   "mimetype": "text/x-python",
   "name": "python",
   "nbconvert_exporter": "python",
   "pygments_lexer": "ipython3",
   "version": "3.10.12"
  }
 },
 "nbformat": 4,
 "nbformat_minor": 2
}
