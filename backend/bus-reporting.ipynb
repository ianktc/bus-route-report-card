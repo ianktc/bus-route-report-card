{
 "cells": [
  {
   "cell_type": "code",
   "execution_count": 77,
   "metadata": {},
   "outputs": [],
   "source": [
    "import pandas as pd\n",
    "from geopy.distance import geodesic"
   ]
  },
  {
   "cell_type": "code",
   "execution_count": 78,
   "metadata": {},
   "outputs": [],
   "source": [
    "route_short_name = '510'\n",
    "input = 'data_in'\n",
    "output = 'data_out'\n",
    "static_data = 'mdb-2253'\n",
    "\n",
    "rt_trips = pd.read_csv(output + '/' + route_short_name + '-rt.csv', sep=',')\n",
    "# print(rt_trips)\n",
    "\n",
    "static_trips = pd.read_csv(output + '/' + route_short_name + '-static.csv')\n",
    "# print(static_trips)\n",
    "\n",
    "stops = pd.read_csv(input + '/' + static_data + '/stops.txt', sep=',')\n",
    "# print(stops)\n",
    "\n",
    "stop_times = pd.read_csv(input + '/' + static_data + '/stop_times.txt', sep=',')\n",
    "# print(stop_times)"
   ]
  },
  {
   "cell_type": "code",
   "execution_count": 79,
   "metadata": {},
   "outputs": [],
   "source": [
    "# Merge rt info with static info\n",
    "rt_static_merged_trips = rt_trips.merge(static_trips, on='trip_id', how='outer')\n",
    "rt_static_merged_trips = rt_static_merged_trips.drop(['Unnamed: 0_x', 'Unnamed: 0_y', 'route_id'], axis=1).dropna()\n",
    "rt_static_merged_trips.reset_index(drop = True, inplace = True)\n",
    "rt_static_merged_trips.to_csv(output + '/' + route_short_name + '-rt-static.csv')\n",
    "# print(rt_static_merged_trips)"
   ]
  },
  {
   "cell_type": "code",
   "execution_count": 80,
   "metadata": {},
   "outputs": [],
   "source": [
    "# Merge stop_times with stops\n",
    "stop_info = stop_times.merge(stops, on=\"stop_id\")\n",
    "stop_info = stop_info[[\"trip_id\",\"arrival_time\",\"departure_time\",\n",
    "                 \"stop_id\",\"stop_sequence\",\"stop_lat\", \"stop_lon\", \"stop_name\"]]\n",
    "# print(stop_info)"
   ]
  },
  {
   "cell_type": "code",
   "execution_count": 81,
   "metadata": {},
   "outputs": [],
   "source": [
    "# Merge stop_info and rt_static_trips on trip_id\n",
    "merged_temp = stop_info.merge(rt_static_merged_trips, on=\"trip_id\", suffixes=(\"_trip\", \"_rt\"))\n",
    "merged = merged_temp[[\"trip_id\", \"now\", \"arrival_time_trip\",\"departure_time_trip\",\n",
    "                 \"stop_sequence_trip\", \"stop_sequence_rt\",\n",
    "                 \"stop_lat_trip\", \"stop_lon_trip\", \"stop_name_trip\",\n",
    "                 \"vehicle_latitude\", \"vehicle_longitude\"]]\n",
    "# print(merged)\n",
    "\n",
    "# Filter rows where stop_sequence is one less or one more\n",
    "filtered = merged[\n",
    "    (merged[\"stop_sequence_rt\"] == merged[\"stop_sequence_trip\"] - 1) |\n",
    "    (merged[\"stop_sequence_rt\"] == merged[\"stop_sequence_trip\"] + 1) |\n",
    "    (merged[\"stop_sequence_rt\"] == merged[\"stop_sequence_trip\"])\n",
    "]\n",
    "filtered_data = filtered[[\"trip_id\", \"stop_sequence_trip\", \"now\", \"arrival_time_trip\", \"departure_time_trip\", \"stop_name_trip\", \"stop_lat_trip\", \"stop_lon_trip\", \"vehicle_latitude\", \"vehicle_longitude\"]]\n",
    "# filtered_data.to_csv(output + '/' + 'filtered_data.csv')\n",
    "# print(filtered_data)"
   ]
  },
  {
   "cell_type": "code",
   "execution_count": 82,
   "metadata": {},
   "outputs": [
    {
     "name": "stderr",
     "output_type": "stream",
     "text": [
      "/tmp/ipykernel_128601/1948330709.py:12: DeprecationWarning: DataFrameGroupBy.apply operated on the grouping columns. This behavior is deprecated, and in a future version of pandas the grouping columns will be excluded from the operation. Either pass `include_groups=False` to exclude the groupings or explicitly select the grouping columns after groupby to silence this warning.\n",
      "  calculated_distance = filtered_data.groupby(\"trip_id\").apply(find_distance_to_stop)\n"
     ]
    }
   ],
   "source": [
    "# Calculate distance to each stop\n",
    "def find_distance_to_stop(group):\n",
    "    group['distance_to_stop'] = group.apply(\n",
    "        lambda row: geodesic(\n",
    "            (row['vehicle_latitude'], row['vehicle_longitude']),\n",
    "            (row['stop_lat_trip'], row['stop_lon_trip'])\n",
    "        ).meters,\n",
    "        axis=1\n",
    "    )\n",
    "    return group\n",
    "\n",
    "calculated_distance = filtered_data.groupby(\"trip_id\").apply(find_distance_to_stop)\n",
    "# print(calculated_distance)\n",
    "calculated_distance.reset_index(drop = True, inplace = True)\n",
    "# calculated_distance.to_csv(output + '/' + 'calculated_distance.csv')\n"
   ]
  },
  {
   "cell_type": "code",
   "execution_count": 83,
   "metadata": {},
   "outputs": [],
   "source": [
    "# Identify which stop is the closest (by stop_sequence)\n",
    "calculated_distance['closest_stop_sequence'] = (\n",
    "    calculated_distance.groupby('trip_id')['distance_to_stop']\n",
    "    .transform(lambda x: calculated_distance.loc[x.idxmin(), 'stop_sequence_trip'])\n",
    ")\n",
    "# print(calculated_distance)\n",
    "calculated_distance.reset_index(drop = True, inplace = True)\n",
    "calculated_distance.to_csv(output + '/' + 'calculated_distance.csv')"
   ]
  },
  {
   "cell_type": "code",
   "execution_count": null,
   "metadata": {},
   "outputs": [
    {
     "name": "stderr",
     "output_type": "stream",
     "text": [
      "/tmp/ipykernel_128601/2030282519.py:7: SettingWithCopyWarning: \n",
      "A value is trying to be set on a copy of a slice from a DataFrame.\n",
      "Try using .loc[row_indexer,col_indexer] = value instead\n",
      "\n",
      "See the caveats in the documentation: https://pandas.pydata.org/pandas-docs/stable/user_guide/indexing.html#returning-a-view-versus-a-copy\n",
      "  result['status'] = result.apply(\n"
     ]
    }
   ],
   "source": [
    "rt_static_merged_trips_concise = rt_static_merged_trips[['trip_id', 'stop_sequence']]\n",
    "calculated_distance_concise = calculated_distance[['trip_id', 'closest_stop_sequence']]\n",
    "comparison = (calculated_distance_concise.merge(rt_static_merged_trips_concise, on='trip_id', how='right'))[['trip_id', 'stop_sequence', 'closest_stop_sequence']]\n",
    "\n",
    "# Evaluate whether bus is on/ahead/behind schedule\n",
    "result = comparison.drop_duplicates()\n",
    "result['status'] = result.apply(\n",
    "    lambda row: \n",
    "        'on' if row['closest_stop_sequence'] == row['stop_sequence'] \n",
    "        else\n",
    "        'ahead' if row['closest_stop_sequence'] > row['stop_sequence'] \n",
    "        else\n",
    "        'behind',\n",
    "    axis=1\n",
    ")\n",
    "result.reset_index(drop = True, inplace = True)\n",
    "result.to_csv(output + '/' + 'result.csv')\n",
    "# print(result)"
   ]
  }
 ],
 "metadata": {
  "kernelspec": {
   "display_name": "Python 3",
   "language": "python",
   "name": "python3"
  },
  "language_info": {
   "codemirror_mode": {
    "name": "ipython",
    "version": 3
   },
   "file_extension": ".py",
   "mimetype": "text/x-python",
   "name": "python",
   "nbconvert_exporter": "python",
   "pygments_lexer": "ipython3",
   "version": "3.10.12"
  }
 },
 "nbformat": 4,
 "nbformat_minor": 2
}
